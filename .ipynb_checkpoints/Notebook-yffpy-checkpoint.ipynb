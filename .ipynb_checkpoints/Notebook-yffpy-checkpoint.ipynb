{
 "cells": [
  {
   "cell_type": "code",
   "execution_count": null,
   "metadata": {},
   "outputs": [],
   "source": [
    "import yffpy\n",
    "from yffpy.query import YahooFantasyFootballQuery\n",
    "import json\n",
    "import openpyxl\n",
    "from datetime import date"
   ]
  },
  {
   "cell_type": "code",
   "execution_count": null,
   "metadata": {},
   "outputs": [],
   "source": [
    "league_id = '43832' # put your real league id here\n",
    "game_id = \"396\"\n",
    "game_code = \"nhl\"\n",
    "season = \"2019\"\n",
    "auth_dir = 'X:/yffpy-batch/'"
   ]
  },
  {
   "cell_type": "code",
   "execution_count": null,
   "metadata": {},
   "outputs": [],
   "source": [
    "yahoo_query = YahooFantasyFootballQuery(auth_dir, league_id, game_id=game_id, game_code=game_code, offline=False)"
   ]
  },
  {
   "cell_type": "code",
   "execution_count": null,
   "metadata": {},
   "outputs": [],
   "source": [
    "#yahoo_query.get_game_stat_categories_by_game_id(game_id)"
   ]
  },
  {
   "cell_type": "code",
   "execution_count": null,
   "metadata": {},
   "outputs": [],
   "source": [
    "#yahoo_query.get_league_metadata()"
   ]
  },
  {
   "cell_type": "code",
   "execution_count": null,
   "metadata": {},
   "outputs": [],
   "source": [
    "standings_data = yahoo_query.get_league_standings()"
   ]
  },
  {
   "cell_type": "code",
   "execution_count": null,
   "metadata": {},
   "outputs": [],
   "source": [
    "# Convert Standings Object to json\n",
    "parsed_json = (json.loads(str(standings_data)))"
   ]
  },
  {
   "cell_type": "code",
   "execution_count": null,
   "metadata": {},
   "outputs": [],
   "source": [
    "parsed_json['teams']"
   ]
  },
  {
   "cell_type": "code",
   "execution_count": null,
   "metadata": {},
   "outputs": [],
   "source": [
    "team_list = []\n",
    "for team in parsed_json['teams']:\n",
    "    team_list.append((int(team['team']['team_id']),team['team']['team_standings']['points_for']))\n",
    "    #print(team['team']['team_id'])\n",
    "    #print(team['team']['name'])\n",
    "    #print(team['team']['team_standings']['points_for'])\n",
    "    #print(team['team']['team_standings']['rank'])"
   ]
  },
  {
   "cell_type": "code",
   "execution_count": null,
   "metadata": {},
   "outputs": [],
   "source": [
    "team_list = sorted(team_list)"
   ]
  },
  {
   "cell_type": "code",
   "execution_count": null,
   "metadata": {},
   "outputs": [],
   "source": [
    "team_list"
   ]
  },
  {
   "cell_type": "code",
   "execution_count": null,
   "metadata": {},
   "outputs": [],
   "source": [
    "book = openpyxl.load_workbook('X:/19-09-24 Yiffy/Points.xlsx')\n",
    "sheet = book.active"
   ]
  },
  {
   "cell_type": "code",
   "execution_count": null,
   "metadata": {},
   "outputs": [],
   "source": [
    "new_excel_row = []\n",
    "new_excel_row.append(date.today().strftime(\"%d/%m/%Y\"))\n",
    "\n",
    "for team in team_list:\n",
    "    new_excel_row.append(team[1])\n",
    "new_excel_row"
   ]
  },
  {
   "cell_type": "code",
   "execution_count": null,
   "metadata": {},
   "outputs": [],
   "source": [
    "sheet.append(new_excel_row)\n",
    "book.save('Points.xlsx')"
   ]
  },
  {
   "cell_type": "code",
   "execution_count": null,
   "metadata": {},
   "outputs": [],
   "source": []
  }
 ],
 "metadata": {
  "kernelspec": {
   "display_name": "Python 3",
   "language": "python",
   "name": "python3"
  },
  "language_info": {
   "codemirror_mode": {
    "name": "ipython",
    "version": 3
   },
   "file_extension": ".py",
   "mimetype": "text/x-python",
   "name": "python",
   "nbconvert_exporter": "python",
   "pygments_lexer": "ipython3",
   "version": "3.7.4"
  }
 },
 "nbformat": 4,
 "nbformat_minor": 2
}
